{
 "cells": [
  {
   "cell_type": "markdown",
   "metadata": {},
   "source": [
    "# Importing Libraries"
   ]
  },
  {
   "cell_type": "code",
   "execution_count": null,
   "metadata": {},
   "outputs": [],
   "source": [
    "import pandas as pd\n",
    "import numpy as np\n",
    "import matplotlib.pyplot as plt\n",
    "from sklearn.cluster import KMeans\n",
    "import seaborn as sns; sns.set()\n",
    "import csv\n",
    "import json \n",
    "import ipympl\n",
    "# %matplotlib\n",
    "from pylab import rcParams\n",
    "import math\n",
    "import requests"
   ]
  },
  {
   "cell_type": "code",
   "execution_count": null,
   "metadata": {},
   "outputs": [],
   "source": [
    "q=requests.get(\"https://diseasex-backend.herokuapp.com/outbreaks\")\n",
    "while(q.text!=\"[]\"):\n",
    "    q= requests.delete(\"https://diseasex-backend.herokuapp.com/outbreaks\")\n",
    "    q=requests.get(\"https://diseasex-backend.herokuapp.com/outbreaks\")"
   ]
  },
  {
   "cell_type": "code",
   "execution_count": null,
   "metadata": {},
   "outputs": [],
   "source": [
    "clusteringDB=requests.get(\"https://diseasex-backend.herokuapp.com/humanCases\")\n",
    "clusteringDB.status_code"
   ]
  },
  {
   "cell_type": "code",
   "execution_count": null,
   "metadata": {},
   "outputs": [],
   "source": [
    "json_data = clusteringDB.json()\n",
    "# print(type(json_data))\n",
    "# print(json_data)"
   ]
  },
  {
   "cell_type": "code",
   "execution_count": null,
   "metadata": {},
   "outputs": [],
   "source": [
    "with open('humanCase.json', 'w') as json_file:\n",
    "    json.dump(json_data, json_file)"
   ]
  },
  {
   "cell_type": "markdown",
   "metadata": {},
   "source": [
    "## Converting JSON to CSV"
   ]
  },
  {
   "cell_type": "code",
   "execution_count": null,
   "metadata": {},
   "outputs": [],
   "source": [
    "import json  # For JSON loading\n",
    "import csv  # For CSV dict writer\n",
    "\n",
    "\n",
    "def get_leaves(item, key=None, key_prefix=\"\"):\n",
    "    \n",
    "    if isinstance(item, dict):\n",
    "        leaves = {}\n",
    "        for item_key in item.keys():\n",
    "            temp_key_prefix = (\n",
    "                item_key if (key_prefix == \"\") else (key_prefix + \"_\" + str(item_key))\n",
    "            )\n",
    "            leaves.update(get_leaves(item[item_key], item_key, temp_key_prefix))\n",
    "        return leaves\n",
    "    elif isinstance(item, list):\n",
    "        leaves = {}\n",
    "        elements = []\n",
    "        for element in item:\n",
    "            if isinstance(element, dict) or isinstance(element, list):\n",
    "                leaves.update(get_leaves(element, key, key_prefix))\n",
    "            else:\n",
    "                elements.append(element)\n",
    "        if len(elements) > 0:\n",
    "            leaves[key] = elements\n",
    "        return leaves\n",
    "    else:\n",
    "        return {key_prefix: item}\n",
    "\n",
    "\n",
    "with open(\"humanCase.json\") as f_input, open(\"final.csv\", \"w\", newline=\"\") as f_output:\n",
    "    json_data = json.load(f_input, strict=False)\n",
    "    fieldnames = set()\n",
    "    for entry in json_data:\n",
    "        fieldnames.update(get_leaves(entry).keys())\n",
    "    csv_output = csv.DictWriter(f_output, delimiter=\",\", fieldnames=sorted(fieldnames))\n",
    "    csv_output.writeheader()\n",
    "    csv_output.writerows(get_leaves(entry) for entry in json_data)"
   ]
  },
  {
   "cell_type": "markdown",
   "metadata": {},
   "source": [
    "## Reading Data"
   ]
  },
  {
   "cell_type": "code",
   "execution_count": null,
   "metadata": {},
   "outputs": [],
   "source": [
    "df=pd.read_csv('final.csv',engine='python')\n",
    "df\n",
    "# df.dropna(axis=0,how='any',subset=['lat','long'],inplace=True)"
   ]
  },
  {
   "cell_type": "code",
   "execution_count": null,
   "metadata": {},
   "outputs": [],
   "source": [
    "df.dropna(subset=['lat', 'lng'],inplace=True)"
   ]
  },
  {
   "cell_type": "code",
   "execution_count": null,
   "metadata": {},
   "outputs": [],
   "source": [
    "# X=df.loc[:,['disease_name','lat','lng']]\n",
    "X = df\n",
    "X"
   ]
  },
  {
   "cell_type": "code",
   "execution_count": null,
   "metadata": {},
   "outputs": [],
   "source": [
    "count = X['disease_name'].nunique()\n",
    "# df['hID'].nunique()\n",
    "count"
   ]
  },
  {
   "cell_type": "code",
   "execution_count": null,
   "metadata": {},
   "outputs": [],
   "source": [
    "X['disease'] = X['disease_name']"
   ]
  },
  {
   "cell_type": "markdown",
   "metadata": {},
   "source": [
    "## Label Encoding"
   ]
  },
  {
   "cell_type": "code",
   "execution_count": null,
   "metadata": {},
   "outputs": [],
   "source": [
    "from sklearn.preprocessing import LabelEncoder\n",
    "le = LabelEncoder()"
   ]
  },
  {
   "cell_type": "code",
   "execution_count": null,
   "metadata": {},
   "outputs": [],
   "source": [
    "dfle = X\n",
    "dfle.disease = le.fit_transform(dfle.disease)\n",
    "dfle.keys()"
   ]
  },
  {
   "cell_type": "code",
   "execution_count": null,
   "metadata": {},
   "outputs": [],
   "source": [
    "dfle['disease_precautions'][1]"
   ]
  },
  {
   "cell_type": "code",
   "execution_count": null,
   "metadata": {},
   "outputs": [],
   "source": [
    "count = dfle['disease'].nunique()"
   ]
  },
  {
   "cell_type": "code",
   "execution_count": null,
   "metadata": {},
   "outputs": [],
   "source": [
    "# ax = dfle.plot.scatter(x='lat', y='long', color='DarkGreen',s = 0);\n",
    "fig = plt.figure(figsize=(5,5))\n",
    "ax = fig.add_subplot(111)\n",
    "scatter = ax.scatter(dfle['lat'],dfle['lng'],color='blue',s=50)"
   ]
  },
  {
   "cell_type": "code",
   "execution_count": null,
   "metadata": {},
   "outputs": [],
   "source": [
    "my_df = dfle.copy()\n",
    "my_df = my_df.iloc[0:0]\n",
    "my_df"
   ]
  },
  {
   "cell_type": "code",
   "execution_count": null,
   "metadata": {},
   "outputs": [],
   "source": [
    "centers = [0,0]\n",
    "centers\n",
    "print(type(centers))"
   ]
  },
  {
   "cell_type": "markdown",
   "metadata": {},
   "source": [
    "## K-Means Clustering"
   ]
  },
  {
   "cell_type": "code",
   "execution_count": null,
   "metadata": {},
   "outputs": [],
   "source": [
    "for x in range(count):\n",
    "    xdf = dfle.loc[dfle['disease'] == x]\n",
    "#     print(xdf)\n",
    "    dist_points_from_cluster_center = []\n",
    "    q = xdf.shape[0]\n",
    "    temp = xdf.loc[:,['lat','lng']]\n",
    "    K = range(1,q)\n",
    "    if(q>1):\n",
    "        for no_of_clusters in K:\n",
    "            k_model = KMeans(n_clusters = no_of_clusters)\n",
    "            k_model.fit(temp)\n",
    "            dist_points_from_cluster_center.append(k_model.inertia_)\n",
    "\n",
    "        #Function to find distance between a point and a line\n",
    "        def calc_distance(x1,y1,a,b,c):\n",
    "            d=abs((a*x1 + b*y1 +c))/(math.sqrt(a*a + b*b))\n",
    "            return d\n",
    "        print(dist_points_from_cluster_center)\n",
    "        a = dist_points_from_cluster_center[0] - dist_points_from_cluster_center[q-2]\n",
    "        b = K[q-2] - K[0]\n",
    "        c1 = K[0]*dist_points_from_cluster_center[q-2]\n",
    "        c2 = K[q-2]*dist_points_from_cluster_center[0]\n",
    "        c = c1-c2\n",
    "\n",
    "        distance_of_points_from_line = []\n",
    "        for k in range(q-1):\n",
    "            distance_of_points_from_line.append(\n",
    "            calc_distance(K[k], dist_points_from_cluster_center[k],a,b,c))\n",
    "\n",
    "        optimum_k = distance_of_points_from_line.index(max(distance_of_points_from_line)) + 1\n",
    "    else:\n",
    "        optimum_k = 1\n",
    "    kmeans = KMeans(n_clusters = optimum_k, init ='k-means++',random_state=50)\n",
    "\n",
    "    kmeans.fit(temp)\n",
    "    y = kmeans.fit_predict(temp)\n",
    "    \n",
    "    xdf = xdf.copy()\n",
    "    xdf['cluster_label'] = (y + (x*10))/10\n",
    "    \n",
    "    center = kmeans.cluster_centers_\n",
    "#     print(type(center))\n",
    "    xdf['cluster_centre_lat'] = center[0,0]\n",
    "    xdf['cluster_centre_lng'] = center[0,1]\n",
    "#     xdf['center'] = center\n",
    "#     print(centers)\n",
    "#     print(center)\n",
    "    centers = np.vstack((centers,center))\n",
    "    xdf\n",
    "    my_df = my_df.append(xdf,ignore_index=True,sort = False)"
   ]
  },
  {
   "cell_type": "markdown",
   "metadata": {},
   "source": [
    "Labelled Dataframe"
   ]
  },
  {
   "cell_type": "code",
   "execution_count": null,
   "metadata": {},
   "outputs": [],
   "source": [
    "my_df.fillna(0,inplace=True)\n",
    "my_df"
   ]
  },
  {
   "cell_type": "markdown",
   "metadata": {},
   "source": [
    "# Centers"
   ]
  },
  {
   "cell_type": "code",
   "execution_count": null,
   "metadata": {},
   "outputs": [],
   "source": [
    "# centers.remove([0,0])\n",
    "centers = np.delete(centers, 0,0) \n",
    "centers"
   ]
  },
  {
   "cell_type": "code",
   "execution_count": null,
   "metadata": {},
   "outputs": [],
   "source": [
    "labels = my_df['cluster_label']\n",
    "len(labels)"
   ]
  },
  {
   "cell_type": "code",
   "execution_count": null,
   "metadata": {},
   "outputs": [],
   "source": [
    "from collections import Counter, defaultdict\n",
    "print(Counter(labels))"
   ]
  },
  {
   "cell_type": "markdown",
   "metadata": {},
   "source": [
    "# Visualising Points"
   ]
  },
  {
   "cell_type": "code",
   "execution_count": null,
   "metadata": {},
   "outputs": [],
   "source": [
    "# plt.style.use(['dark_background'])\n",
    "fig = plt.figure(figsize=(10,10))\n",
    "ax = fig.add_subplot(111)\n",
    "scatter = ax.scatter(my_df['lat'],my_df['lng'],c=labels,s=50)\n",
    "for i,j in centers:\n",
    "    ax.scatter(i,j,s=100,c='red',marker='+')\n",
    "ax.set_xlabel('lat')\n",
    "ax.set_ylabel('lng')\n",
    "# plt.colorbar(scatter)\n",
    "\n",
    "plt.show()"
   ]
  },
  {
   "cell_type": "code",
   "execution_count": null,
   "metadata": {},
   "outputs": [],
   "source": [
    "import json\n",
    "\n",
    "data = centers\n",
    "list = [{\"latitude\": x[0], \"longitude\": x[1]} for x in data]\n",
    "\n",
    "output = json.dumps(list)"
   ]
  },
  {
   "cell_type": "code",
   "execution_count": null,
   "metadata": {},
   "outputs": [],
   "source": [
    "output"
   ]
  },
  {
   "cell_type": "code",
   "execution_count": null,
   "metadata": {},
   "outputs": [],
   "source": [
    "with open('result.json', 'w') as outfile:\n",
    "    json.dump(output, outfile,indent = 4)"
   ]
  },
  {
   "cell_type": "code",
   "execution_count": null,
   "metadata": {},
   "outputs": [],
   "source": [
    "import json\n",
    "for i in range(my_df.shape[0]):\n",
    "    ini_string={\n",
    "        \n",
    "        \"disease\": {\n",
    "            \"_id\": my_df[\"disease__id\"][i],\n",
    "            \"livestock\": [\n",
    "                {\n",
    "                    \"_id\": my_df[\"disease_livestock__id\"][i],\n",
    "                    \"breed\": my_df[\"disease_livestock_breed\"][i],\n",
    "                    \"population\": my_df[\"disease_livestock_population\"][i]\n",
    "                }\n",
    "            ],\n",
    "            \"vaccine\": [\n",
    "                {\n",
    "                    \"_id\": my_df[\"disease_vaccine__id\"][i],\n",
    "                    \"name\": my_df[\"disease_vaccine_name\"][i],\n",
    "                    \"scientificName\": my_df[\"disease_vaccine_scientificName\"][i],\n",
    "                    \"duration\": my_df[\"disease_vaccine_duration\"][i],\n",
    "                    \"forHuman\": my_df[\"disease_vaccine_forHuman\"][i]\n",
    "                }\n",
    "            ],\n",
    "            \"name\": my_df[\"disease_name\"][i],\n",
    "            \"scientificName\": my_df[\"disease_scientificName\"][i],\n",
    "            \"precautions\" : my_df[\"disease_precautions\"][i],\n",
    "            \"symptoms\": my_df[\"disease_symptoms\"][i],\n",
    "            \"morbidity\": my_df[\"disease_morbidity\"][i],\n",
    "            \"mortality\": my_df[\"disease_mortality\"][i],\n",
    "            \"total_affected\": my_df[\"disease_total_affected\"][i],\n",
    "            \"total_deaths\": my_df[\"disease_total_deaths\"][i]\n",
    "        },\n",
    "        \"healthCenter\": {\n",
    "            \"_id\": my_df[\"healthCenter__id\"][i],\n",
    "            \"address\": my_df[\"healthCenter_address\"][i],\n",
    "            \"email\": my_df[\"healthCenter_email\"][i],\n",
    "            \"contact\": my_df[\"healthCenter_contact\"][i],\n",
    "            \"name\": my_df[\"healthCenter_contact\"][i],\n",
    "            \"incharge\": my_df[\"healthCenter_incharge\"][i],\n",
    "            \"pincode\": my_df[\"healthCenter_pincode\"][i],\n",
    "            \"web\": my_df[\"healthCenter_web\"][i],\n",
    "            \"total_recovered\":my_df[\"healthCenter_total_recovered\"][i],\n",
    "            \"total_affected\": my_df[\"healthCenter_total_affected\"][i],\n",
    "            \"total_deaths\": my_df[\"healthCenter_total_deaths\"][i]\n",
    "            \n",
    "        },\n",
    "        \"total_recovered\":my_df[\"disease_total_recovered\"][i],\n",
    "        \"total_affected\": my_df[\"disease_total_affected\"][i],\n",
    "        \"total_deaths\": my_df[\"disease_total_deaths\"][i],\n",
    "        \"__v\": my_df[\"__v\"][i],\n",
    "        \"radius\" :my_df[\"disease\"][i],\n",
    "        \"lat\": my_df[\"cluster_centre_lat\"][i],\n",
    "        \"lng\": my_df[\"cluster_centre_lng\"][i]\n",
    "    }\n",
    "\n",
    "    def convert(obj):\n",
    "        if isinstance(obj, np.integer):\n",
    "            return int(obj)\n",
    "        elif isinstance(obj, np.floating):\n",
    "            return float(obj)\n",
    "        elif isinstance(obj, np.ndarray):\n",
    "            return obj.tolist()\n",
    "\n",
    "    y=json.dumps(ini_string, default=convert)\n",
    "    headers = {'Accept' : 'application/json', 'Content-Type' : 'application/json'}\n",
    "    url=\"https://diseasex-backend.herokuapp.com/outbreaks\"\n",
    "    r = requests.post(url, data=y,headers=headers)    "
   ]
  },
  {
   "cell_type": "code",
   "execution_count": null,
   "metadata": {},
   "outputs": [],
   "source": [
    "print(\"Clustering Successful !\")\n",
    "print(\"Data upload to database Successful !\")"
   ]
  },
  {
   "cell_type": "code",
   "execution_count": null,
   "metadata": {},
   "outputs": [],
   "source": []
  }
 ],
 "metadata": {
  "kernelspec": {
   "display_name": "Python 3",
   "language": "python",
   "name": "python3"
  },
  "language_info": {
   "codemirror_mode": {
    "name": "ipython",
    "version": 3
   },
   "file_extension": ".py",
   "mimetype": "text/x-python",
   "name": "python",
   "nbconvert_exporter": "python",
   "pygments_lexer": "ipython3",
   "version": "3.7.3"
  }
 },
 "nbformat": 4,
 "nbformat_minor": 4
}
